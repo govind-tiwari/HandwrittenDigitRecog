{
  "nbformat": 4,
  "nbformat_minor": 0,
  "metadata": {
    "colab": {
      "name": "DigitRecog.ipynb",
      "provenance": [],
      "mount_file_id": "1D-578qLYkcrXViSREbuBJLvLrm3JsXb0",
      "authorship_tag": "ABX9TyPJXqMEVmEblR3VxC4eTroI",
      "include_colab_link": true
    },
    "kernelspec": {
      "name": "python3",
      "display_name": "Python 3"
    },
    "language_info": {
      "name": "python"
    }
  },
  "cells": [
    {
      "cell_type": "markdown",
      "metadata": {
        "id": "view-in-github",
        "colab_type": "text"
      },
      "source": [
        "<a href=\"https://colab.research.google.com/github/govind-tiwari/HandwrittenDigitRecog/blob/main/DigitRecog.ipynb\" target=\"_parent\"><img src=\"https://colab.research.google.com/assets/colab-badge.svg\" alt=\"Open In Colab\"/></a>"
      ]
    },
    {
      "cell_type": "markdown",
      "metadata": {
        "id": "9nCi-qXwaygg"
      },
      "source": [
        "**Importing**"
      ]
    },
    {
      "cell_type": "code",
      "metadata": {
        "id": "itQU8MyUWu2Y"
      },
      "source": [
        "import cv2 as cv\n",
        "import numpy as np\n",
        "import matplotlib.pyplot as plt\n",
        "import tensorflow as tf\n"
      ],
      "execution_count": 24,
      "outputs": []
    },
    {
      "cell_type": "markdown",
      "metadata": {
        "id": "AScf-Td1a44g"
      },
      "source": [
        "**Loading dataset and splitting them**"
      ]
    },
    {
      "cell_type": "code",
      "metadata": {
        "id": "Jr3ZWtalXH0v"
      },
      "source": [
        "mnist=tf.keras.datasets.mnist\n",
        "(x_train,y_train),(x_test,y_test)=mnist.load_data()"
      ],
      "execution_count": 25,
      "outputs": []
    },
    {
      "cell_type": "markdown",
      "metadata": {
        "id": "oXbVxji0bQCu"
      },
      "source": [
        "**Normalising**"
      ]
    },
    {
      "cell_type": "code",
      "metadata": {
        "id": "ekx0KlgwW2A8"
      },
      "source": [
        "x_train=tf.keras.utils.normalize(x_train,axis=1)\n",
        "x_test=tf.keras.utils.normalize(x_test,axis=1)"
      ],
      "execution_count": 26,
      "outputs": []
    },
    {
      "cell_type": "markdown",
      "metadata": {
        "id": "ITi86n9JbVkc"
      },
      "source": [
        "**Creating Neural Network** **i.e Model**"
      ]
    },
    {
      "cell_type": "code",
      "metadata": {
        "id": "EEe3wjIvY2T4"
      },
      "source": [
        "model=tf.keras.models.Sequential()\n",
        "model.add(tf.keras.layers.Flatten(input_shape=(28,28)))\n",
        "model.add(tf.keras.layers.Dense(units=128,activation=tf.nn.relu))\n",
        "model.add(tf.keras.layers.Dense(units=128,activation=tf.nn.relu))\n",
        "model.add(tf.keras.layers.Dense(units=10,activation=tf.nn.softmax))"
      ],
      "execution_count": 27,
      "outputs": []
    },
    {
      "cell_type": "markdown",
      "metadata": {
        "id": "tIvEUiEqbv4m"
      },
      "source": [
        "**Compiling the Model**"
      ]
    },
    {
      "cell_type": "code",
      "metadata": {
        "id": "OK3H9_N1Zivc"
      },
      "source": [
        "model.compile(optimizer='adam',loss='sparse_categorical_crossentropy',metrics=['accuracy'])"
      ],
      "execution_count": 28,
      "outputs": []
    },
    {
      "cell_type": "markdown",
      "metadata": {
        "id": "J7poxl4XcChk"
      },
      "source": [
        "**Training the Model**"
      ]
    },
    {
      "cell_type": "code",
      "metadata": {
        "colab": {
          "base_uri": "https://localhost:8080/"
        },
        "id": "R8mL0iJqZ6Du",
        "outputId": "6ac1673b-4f02-4525-b4c3-436e02c59a86"
      },
      "source": [
        "model.fit(x_train,y_train,epochs=3)"
      ],
      "execution_count": 29,
      "outputs": [
        {
          "output_type": "stream",
          "text": [
            "Epoch 1/3\n",
            "1875/1875 [==============================] - 4s 2ms/step - loss: 0.2614 - accuracy: 0.9237\n",
            "Epoch 2/3\n",
            "1875/1875 [==============================] - 4s 2ms/step - loss: 0.1061 - accuracy: 0.9670\n",
            "Epoch 3/3\n",
            "1875/1875 [==============================] - 4s 2ms/step - loss: 0.0732 - accuracy: 0.9770\n"
          ],
          "name": "stdout"
        },
        {
          "output_type": "execute_result",
          "data": {
            "text/plain": [
              "<keras.callbacks.History at 0x7fc513182c50>"
            ]
          },
          "metadata": {},
          "execution_count": 29
        }
      ]
    },
    {
      "cell_type": "markdown",
      "metadata": {
        "id": "xvocI37kcLac"
      },
      "source": [
        "**Evaluating Our Model**"
      ]
    },
    {
      "cell_type": "code",
      "metadata": {
        "colab": {
          "base_uri": "https://localhost:8080/"
        },
        "id": "lyEd_6zIaCvp",
        "outputId": "bf118469-936b-478c-e3a2-a5bf2ce61285"
      },
      "source": [
        "loss,accuracy=model.evaluate(x_test,y_test)\n",
        "print(accuracy)\n",
        "print(loss)"
      ],
      "execution_count": 30,
      "outputs": [
        {
          "output_type": "stream",
          "text": [
            "313/313 [==============================] - 0s 1ms/step - loss: 0.0932 - accuracy: 0.9706\n",
            "0.9706000089645386\n",
            "0.09316200017929077\n"
          ],
          "name": "stdout"
        }
      ]
    },
    {
      "cell_type": "markdown",
      "metadata": {
        "id": "_4TZZzPAcRnx"
      },
      "source": [
        "**Saving the Model**"
      ]
    },
    {
      "cell_type": "code",
      "metadata": {
        "colab": {
          "base_uri": "https://localhost:8080/"
        },
        "id": "SkL64MeTadki",
        "outputId": "7962e340-7d95-426f-b810-eecb2e0e0287"
      },
      "source": [
        "model.save('digit.model')"
      ],
      "execution_count": 31,
      "outputs": [
        {
          "output_type": "stream",
          "text": [
            "INFO:tensorflow:Assets written to: digit.model/assets\n"
          ],
          "name": "stdout"
        }
      ]
    },
    {
      "cell_type": "markdown",
      "metadata": {
        "id": "Xp7qgZTYlZ0k"
      },
      "source": [
        "**Testing**"
      ]
    },
    {
      "cell_type": "code",
      "metadata": {
        "id": "AyWOfvHBcnyX",
        "colab": {
          "base_uri": "https://localhost:8080/",
          "height": 1000
        },
        "outputId": "8f650349-cf0b-449e-e6e9-8b4ca72a59fe"
      },
      "source": [
        "import cv2 as cv\n",
        "import numpy as np\n",
        "import matplotlib.pyplot as plt\n",
        "import tensorflow as tf\n",
        "from google.colab import drive\n",
        "drive.mount(\"/content/gdrive\")\n",
        "model=tf.keras.models.load_model(\"./digit.model\")\n",
        "for x in range(1,5):\n",
        "  img=cv.imread(f'{x}.png')[:,:,0]\n",
        "  img=np.invert(np.array([img]))\n",
        "  prediction=model.predict(img)\n",
        "  print(f'The Number is probably:{np.argmax(prediction)}')\n",
        "  plt.imshow(img[0],cmap=plt.cm.binary)\n",
        "  plt.show()"
      ],
      "execution_count": 32,
      "outputs": [
        {
          "output_type": "stream",
          "text": [
            "Mounted at /content/gdrive\n",
            "The Number is probably:6\n"
          ],
          "name": "stdout"
        },
        {
          "output_type": "display_data",
          "data": {
            "image/png": "[encoded data removed]",
            "text/plain": [
              "<Figure size 432x288 with 1 Axes>"
            ]
          },
          "metadata": {
            "needs_background": "light"
          }
        },
        {
          "output_type": "stream",
          "text": [
            "The Number is probably:5\n"
          ],
          "name": "stdout"
        },
        {
          "output_type": "display_data",
          "data": {
            "image/png": "[encoded data removed]",
            "text/plain": [
              "<Figure size 432x288 with 1 Axes>"
            ]
          },
          "metadata": {
            "needs_background": "light"
          }
        },
        {
          "output_type": "stream",
          "text": [
            "The Number is probably:8\n"
          ],
          "name": "stdout"
        },
        {
          "output_type": "display_data",
          "data": {
            "image/png": "[encoded data removed]",
            "text/plain": [
              "<Figure size 432x288 with 1 Axes>"
            ]
          },
          "metadata": {
            "needs_background": "light"
          }
        },
        {
          "output_type": "stream",
          "text": [
            "The Number is probably:3\n"
          ],
          "name": "stdout"
        },
        {
          "output_type": "display_data",
          "data": {
            "image/png": "[encoded data removed]",
            "text/plain": [
              "<Figure size 432x288 with 1 Axes>"
            ]
          },
          "metadata": {
            "needs_background": "light"
          }
        }
      ]
    }
  ]
}